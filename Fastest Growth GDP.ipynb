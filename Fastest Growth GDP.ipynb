{
 "cells": [
  {
   "cell_type": "markdown",
   "metadata": {},
   "source": [
    "# Fastest Growing Country in GDP Per Capita"
   ]
  },
  {
   "cell_type": "code",
   "execution_count": 73,
   "metadata": {},
   "outputs": [],
   "source": [
    "import pandas as pd\n",
    "import matplotlib.pyplot as plt\n",
    "import numpy as np"
   ]
  },
  {
   "cell_type": "code",
   "execution_count": 74,
   "metadata": {},
   "outputs": [
    {
     "data": {
      "text/html": [
       "<div>\n",
       "<style scoped>\n",
       "    .dataframe tbody tr th:only-of-type {\n",
       "        vertical-align: middle;\n",
       "    }\n",
       "\n",
       "    .dataframe tbody tr th {\n",
       "        vertical-align: top;\n",
       "    }\n",
       "\n",
       "    .dataframe thead th {\n",
       "        text-align: right;\n",
       "    }\n",
       "</style>\n",
       "<table border=\"1\" class=\"dataframe\">\n",
       "  <thead>\n",
       "    <tr style=\"text-align: right;\">\n",
       "      <th></th>\n",
       "      <th>country</th>\n",
       "      <th>continent</th>\n",
       "      <th>year</th>\n",
       "      <th>lifeExpectancy</th>\n",
       "      <th>population</th>\n",
       "      <th>gdpPerCapita</th>\n",
       "    </tr>\n",
       "  </thead>\n",
       "  <tbody>\n",
       "    <tr>\n",
       "      <th>0</th>\n",
       "      <td>Afghanistan</td>\n",
       "      <td>Asia</td>\n",
       "      <td>1952</td>\n",
       "      <td>28.801</td>\n",
       "      <td>8425333</td>\n",
       "      <td>779.445314</td>\n",
       "    </tr>\n",
       "    <tr>\n",
       "      <th>1</th>\n",
       "      <td>Afghanistan</td>\n",
       "      <td>Asia</td>\n",
       "      <td>1957</td>\n",
       "      <td>30.332</td>\n",
       "      <td>9240934</td>\n",
       "      <td>820.853030</td>\n",
       "    </tr>\n",
       "    <tr>\n",
       "      <th>2</th>\n",
       "      <td>Afghanistan</td>\n",
       "      <td>Asia</td>\n",
       "      <td>1962</td>\n",
       "      <td>31.997</td>\n",
       "      <td>10267083</td>\n",
       "      <td>853.100710</td>\n",
       "    </tr>\n",
       "    <tr>\n",
       "      <th>3</th>\n",
       "      <td>Afghanistan</td>\n",
       "      <td>Asia</td>\n",
       "      <td>1967</td>\n",
       "      <td>34.020</td>\n",
       "      <td>11537966</td>\n",
       "      <td>836.197138</td>\n",
       "    </tr>\n",
       "    <tr>\n",
       "      <th>4</th>\n",
       "      <td>Afghanistan</td>\n",
       "      <td>Asia</td>\n",
       "      <td>1972</td>\n",
       "      <td>36.088</td>\n",
       "      <td>13079460</td>\n",
       "      <td>739.981106</td>\n",
       "    </tr>\n",
       "    <tr>\n",
       "      <th>5</th>\n",
       "      <td>Afghanistan</td>\n",
       "      <td>Asia</td>\n",
       "      <td>1977</td>\n",
       "      <td>38.438</td>\n",
       "      <td>14880372</td>\n",
       "      <td>786.113360</td>\n",
       "    </tr>\n",
       "    <tr>\n",
       "      <th>6</th>\n",
       "      <td>Afghanistan</td>\n",
       "      <td>Asia</td>\n",
       "      <td>1982</td>\n",
       "      <td>39.854</td>\n",
       "      <td>12881816</td>\n",
       "      <td>978.011439</td>\n",
       "    </tr>\n",
       "    <tr>\n",
       "      <th>7</th>\n",
       "      <td>Afghanistan</td>\n",
       "      <td>Asia</td>\n",
       "      <td>1987</td>\n",
       "      <td>40.822</td>\n",
       "      <td>13867957</td>\n",
       "      <td>852.395945</td>\n",
       "    </tr>\n",
       "    <tr>\n",
       "      <th>8</th>\n",
       "      <td>Afghanistan</td>\n",
       "      <td>Asia</td>\n",
       "      <td>1992</td>\n",
       "      <td>41.674</td>\n",
       "      <td>16317921</td>\n",
       "      <td>649.341395</td>\n",
       "    </tr>\n",
       "    <tr>\n",
       "      <th>9</th>\n",
       "      <td>Afghanistan</td>\n",
       "      <td>Asia</td>\n",
       "      <td>1997</td>\n",
       "      <td>41.763</td>\n",
       "      <td>22227415</td>\n",
       "      <td>635.341351</td>\n",
       "    </tr>\n",
       "    <tr>\n",
       "      <th>10</th>\n",
       "      <td>Afghanistan</td>\n",
       "      <td>Asia</td>\n",
       "      <td>2002</td>\n",
       "      <td>42.129</td>\n",
       "      <td>25268405</td>\n",
       "      <td>726.734055</td>\n",
       "    </tr>\n",
       "    <tr>\n",
       "      <th>11</th>\n",
       "      <td>Afghanistan</td>\n",
       "      <td>Asia</td>\n",
       "      <td>2007</td>\n",
       "      <td>43.828</td>\n",
       "      <td>31889923</td>\n",
       "      <td>974.580338</td>\n",
       "    </tr>\n",
       "    <tr>\n",
       "      <th>12</th>\n",
       "      <td>Albania</td>\n",
       "      <td>Europe</td>\n",
       "      <td>1952</td>\n",
       "      <td>55.230</td>\n",
       "      <td>1282697</td>\n",
       "      <td>1601.056136</td>\n",
       "    </tr>\n",
       "    <tr>\n",
       "      <th>13</th>\n",
       "      <td>Albania</td>\n",
       "      <td>Europe</td>\n",
       "      <td>1957</td>\n",
       "      <td>59.280</td>\n",
       "      <td>1476505</td>\n",
       "      <td>1942.284244</td>\n",
       "    </tr>\n",
       "    <tr>\n",
       "      <th>14</th>\n",
       "      <td>Albania</td>\n",
       "      <td>Europe</td>\n",
       "      <td>1962</td>\n",
       "      <td>64.820</td>\n",
       "      <td>1728137</td>\n",
       "      <td>2312.888958</td>\n",
       "    </tr>\n",
       "    <tr>\n",
       "      <th>15</th>\n",
       "      <td>Albania</td>\n",
       "      <td>Europe</td>\n",
       "      <td>1967</td>\n",
       "      <td>66.220</td>\n",
       "      <td>1984060</td>\n",
       "      <td>2760.196931</td>\n",
       "    </tr>\n",
       "    <tr>\n",
       "      <th>16</th>\n",
       "      <td>Albania</td>\n",
       "      <td>Europe</td>\n",
       "      <td>1972</td>\n",
       "      <td>67.690</td>\n",
       "      <td>2263554</td>\n",
       "      <td>3313.422188</td>\n",
       "    </tr>\n",
       "    <tr>\n",
       "      <th>17</th>\n",
       "      <td>Albania</td>\n",
       "      <td>Europe</td>\n",
       "      <td>1977</td>\n",
       "      <td>68.930</td>\n",
       "      <td>2509048</td>\n",
       "      <td>3533.003910</td>\n",
       "    </tr>\n",
       "    <tr>\n",
       "      <th>18</th>\n",
       "      <td>Albania</td>\n",
       "      <td>Europe</td>\n",
       "      <td>1982</td>\n",
       "      <td>70.420</td>\n",
       "      <td>2780097</td>\n",
       "      <td>3630.880722</td>\n",
       "    </tr>\n",
       "    <tr>\n",
       "      <th>19</th>\n",
       "      <td>Albania</td>\n",
       "      <td>Europe</td>\n",
       "      <td>1987</td>\n",
       "      <td>72.000</td>\n",
       "      <td>3075321</td>\n",
       "      <td>3738.932735</td>\n",
       "    </tr>\n",
       "  </tbody>\n",
       "</table>\n",
       "</div>"
      ],
      "text/plain": [
       "        country continent  year  lifeExpectancy  population  gdpPerCapita\n",
       "0   Afghanistan      Asia  1952          28.801     8425333    779.445314\n",
       "1   Afghanistan      Asia  1957          30.332     9240934    820.853030\n",
       "2   Afghanistan      Asia  1962          31.997    10267083    853.100710\n",
       "3   Afghanistan      Asia  1967          34.020    11537966    836.197138\n",
       "4   Afghanistan      Asia  1972          36.088    13079460    739.981106\n",
       "5   Afghanistan      Asia  1977          38.438    14880372    786.113360\n",
       "6   Afghanistan      Asia  1982          39.854    12881816    978.011439\n",
       "7   Afghanistan      Asia  1987          40.822    13867957    852.395945\n",
       "8   Afghanistan      Asia  1992          41.674    16317921    649.341395\n",
       "9   Afghanistan      Asia  1997          41.763    22227415    635.341351\n",
       "10  Afghanistan      Asia  2002          42.129    25268405    726.734055\n",
       "11  Afghanistan      Asia  2007          43.828    31889923    974.580338\n",
       "12      Albania    Europe  1952          55.230     1282697   1601.056136\n",
       "13      Albania    Europe  1957          59.280     1476505   1942.284244\n",
       "14      Albania    Europe  1962          64.820     1728137   2312.888958\n",
       "15      Albania    Europe  1967          66.220     1984060   2760.196931\n",
       "16      Albania    Europe  1972          67.690     2263554   3313.422188\n",
       "17      Albania    Europe  1977          68.930     2509048   3533.003910\n",
       "18      Albania    Europe  1982          70.420     2780097   3630.880722\n",
       "19      Albania    Europe  1987          72.000     3075321   3738.932735"
      ]
     },
     "execution_count": 74,
     "metadata": {},
     "output_type": "execute_result"
    }
   ],
   "source": [
    "data=pd.read_csv('countries.csv')\n",
    "data.head(20)"
   ]
  },
  {
   "cell_type": "code",
   "execution_count": 75,
   "metadata": {},
   "outputs": [],
   "source": [
    "# Data is already sorted on the basis of years, no sorting is done\n",
    "# Finding the list of all unique countries\n",
    "countries=set(data.country)\n",
    "\n",
    "gdp_of_diff_countries=[]\n",
    "#Calculating the GDP Per Capita Difference in each country in Year 2007 and Year 1952\n",
    "for c in countries:\n",
    "    gdp_2007=data[data.country==c].gdpPerCapita.iloc[-1]\n",
    "    gdp_1952=data[data.country==c].gdpPerCapita.iloc[0]\n",
    "    gdp_diff=gdp_2007-gdp_1952\n",
    "    gdp_of_diff_countries.append([c,gdp_diff])"
   ]
  },
  {
   "cell_type": "code",
   "execution_count": 76,
   "metadata": {},
   "outputs": [],
   "source": [
    "gdp_of_diff_countries=pd.DataFrame(gdp_of_diff_countries,columns=['country','gdpChange'])"
   ]
  },
  {
   "cell_type": "code",
   "execution_count": 77,
   "metadata": {},
   "outputs": [
    {
     "data": {
      "text/html": [
       "<div>\n",
       "<style scoped>\n",
       "    .dataframe tbody tr th:only-of-type {\n",
       "        vertical-align: middle;\n",
       "    }\n",
       "\n",
       "    .dataframe tbody tr th {\n",
       "        vertical-align: top;\n",
       "    }\n",
       "\n",
       "    .dataframe thead th {\n",
       "        text-align: right;\n",
       "    }\n",
       "</style>\n",
       "<table border=\"1\" class=\"dataframe\">\n",
       "  <thead>\n",
       "    <tr style=\"text-align: right;\">\n",
       "      <th></th>\n",
       "      <th>country</th>\n",
       "      <th>gdpChange</th>\n",
       "    </tr>\n",
       "  </thead>\n",
       "  <tbody>\n",
       "    <tr>\n",
       "      <th>18</th>\n",
       "      <td>Singapore</td>\n",
       "      <td>44828.041413</td>\n",
       "    </tr>\n",
       "    <tr>\n",
       "      <th>72</th>\n",
       "      <td>Norway</td>\n",
       "      <td>39261.768450</td>\n",
       "    </tr>\n",
       "    <tr>\n",
       "      <th>132</th>\n",
       "      <td>Hong Kong, China</td>\n",
       "      <td>36670.557461</td>\n",
       "    </tr>\n",
       "    <tr>\n",
       "      <th>138</th>\n",
       "      <td>Ireland</td>\n",
       "      <td>35465.716022</td>\n",
       "    </tr>\n",
       "    <tr>\n",
       "      <th>45</th>\n",
       "      <td>Austria</td>\n",
       "      <td>29989.416208</td>\n",
       "    </tr>\n",
       "  </tbody>\n",
       "</table>\n",
       "</div>"
      ],
      "text/plain": [
       "              country     gdpChange\n",
       "18          Singapore  44828.041413\n",
       "72             Norway  39261.768450\n",
       "132  Hong Kong, China  36670.557461\n",
       "138           Ireland  35465.716022\n",
       "45            Austria  29989.416208"
      ]
     },
     "execution_count": 77,
     "metadata": {},
     "output_type": "execute_result"
    }
   ],
   "source": [
    "top5=gdp_of_diff_countries.sort_values(by=['gdpChange'],ascending=False).head()\n",
    "# Taking the Top 5 Countries with the maximum change in GDP from 1952-2007\n",
    "top5.head()"
   ]
  },
  {
   "cell_type": "code",
   "execution_count": 78,
   "metadata": {},
   "outputs": [],
   "source": [
    "# Isolating Data for Each Country in the Top 5\n",
    "singapore=data[data.country=='Singapore']\n",
    "norway=data[data.country=='Norway']\n",
    "china=data[data.country=='Hong Kong, China']\n",
    "ireland=data[data.country=='Ireland']\n",
    "austria=data[data.country=='Austria']"
   ]
  },
  {
   "cell_type": "markdown",
   "metadata": {},
   "source": [
    "### Plotting the Growth of GDP Per Capita for each of the Top 5 Countries (Singapore, Norway, China, Ireland, Austria) "
   ]
  },
  {
   "cell_type": "code",
   "execution_count": 79,
   "metadata": {},
   "outputs": [
    {
     "data": {
      "image/png": "[encoded data removed]",
      "text/plain": [
       "<Figure size 432x288 with 1 Axes>"
      ]
     },
     "metadata": {
      "needs_background": "light"
     },
     "output_type": "display_data"
    }
   ],
   "source": [
    "plt.title(\"Growth of GDP Per Capita in Each Country\")\n",
    "plt.plot(singapore.year,singapore.gdpPerCapita/singapore.gdpPerCapita.iloc[0]*100,color='red')\n",
    "plt.plot(norway.year,norway.gdpPerCapita/norway.gdpPerCapita.iloc[0]*100,color='blue')\n",
    "plt.plot(china.year,china.gdpPerCapita/china.gdpPerCapita.iloc[0]*100,color='green')\n",
    "plt.plot(ireland.year,ireland.gdpPerCapita/ireland.gdpPerCapita.iloc[0]*100,color='orange')\n",
    "plt.plot(austria.year,austria.gdpPerCapita/austria.gdpPerCapita.iloc[0]*100,color='yellow')\n",
    "plt.legend(['Singapore','Norway','Hong Kong, China','Ireland','Austria'])\n",
    "plt.xlabel('Year')\n",
    "plt.ylabel('GDP Per Capita')\n",
    "plt.show()"
   ]
  },
  {
   "cell_type": "code",
   "execution_count": 80,
   "metadata": {},
   "outputs": [],
   "source": [
    "# Clearly from the graph we can see that Singapore has reported the fastest growth in GDP Per Capita over the years 1952-2007\n",
    "# Followed by Hong Kong, China\n",
    "# Followed by Ireland, then Austria and then Norway"
   ]
  },
  {
   "cell_type": "markdown",
   "metadata": {},
   "source": [
    "## Analyzing the GDP Per Capita for Singapore"
   ]
  },
  {
   "cell_type": "code",
   "execution_count": 81,
   "metadata": {},
   "outputs": [
    {
     "data": {
      "image/png": "[encoded data removed]",
      "text/plain": [
       "<Figure size 432x288 with 1 Axes>"
      ]
     },
     "metadata": {
      "needs_background": "light"
     },
     "output_type": "display_data"
    }
   ],
   "source": [
    "plt.plot(singapore.year,singapore.gdpPerCapita/singapore.gdpPerCapita.iloc[0]*100,color='red')\n",
    "plt.plot(singapore.year,singapore.population/singapore.population.iloc[0]*100,color='blue')\n",
    "plt.legend(['GDP Per Capita','Population'])\n",
    "plt.title('Growth in GDP Per Capita and Population in Singapore over 1952-2007')\n",
    "plt.xlabel('Year')\n",
    "plt.show()"
   ]
  },
  {
   "cell_type": "markdown",
   "metadata": {},
   "source": [
    "# Fastest Growing Country in terms of GDP"
   ]
  },
  {
   "cell_type": "code",
   "execution_count": 82,
   "metadata": {},
   "outputs": [],
   "source": [
    "# Finding the list of all unique countries\n",
    "countries=set(data.country)\n",
    "\n",
    "gdp_of_diff_countries=[]\n",
    "#Calculating the GDP Difference in each country in Year 2007 and Year 1952\n",
    "for c in countries:\n",
    "    gdp_2007=(data[data.country==c].gdpPerCapita.iloc[-1])*(data[data.country==c].population.iloc[-1])\n",
    "    gdp_1952=(data[data.country==c].gdpPerCapita.iloc[0])*(data[data.country==c].population.iloc[0])\n",
    "    gdp_diff=gdp_2007-gdp_1952\n",
    "    gdp_of_diff_countries.append([c,gdp_diff])"
   ]
  },
  {
   "cell_type": "code",
   "execution_count": 83,
   "metadata": {},
   "outputs": [],
   "source": [
    "gdp_of_diff_countries=pd.DataFrame(gdp_of_diff_countries,columns=['country','gdp'])"
   ]
  },
  {
   "cell_type": "code",
   "execution_count": 84,
   "metadata": {},
   "outputs": [
    {
     "data": {
      "text/html": [
       "<div>\n",
       "<style scoped>\n",
       "    .dataframe tbody tr th:only-of-type {\n",
       "        vertical-align: middle;\n",
       "    }\n",
       "\n",
       "    .dataframe tbody tr th {\n",
       "        vertical-align: top;\n",
       "    }\n",
       "\n",
       "    .dataframe thead th {\n",
       "        text-align: right;\n",
       "    }\n",
       "</style>\n",
       "<table border=\"1\" class=\"dataframe\">\n",
       "  <thead>\n",
       "    <tr style=\"text-align: right;\">\n",
       "      <th></th>\n",
       "      <th>country</th>\n",
       "      <th>gdp</th>\n",
       "    </tr>\n",
       "  </thead>\n",
       "  <tbody>\n",
       "    <tr>\n",
       "      <th>111</th>\n",
       "      <td>United States</td>\n",
       "      <td>1.073022e+13</td>\n",
       "    </tr>\n",
       "    <tr>\n",
       "      <th>19</th>\n",
       "      <td>China</td>\n",
       "      <td>6.316746e+12</td>\n",
       "    </tr>\n",
       "    <tr>\n",
       "      <th>65</th>\n",
       "      <td>Japan</td>\n",
       "      <td>3.757000e+12</td>\n",
       "    </tr>\n",
       "    <tr>\n",
       "      <th>12</th>\n",
       "      <td>India</td>\n",
       "      <td>2.519603e+12</td>\n",
       "    </tr>\n",
       "    <tr>\n",
       "      <th>105</th>\n",
       "      <td>Germany</td>\n",
       "      <td>2.156884e+12</td>\n",
       "    </tr>\n",
       "  </tbody>\n",
       "</table>\n",
       "</div>"
      ],
      "text/plain": [
       "           country           gdp\n",
       "111  United States  1.073022e+13\n",
       "19           China  6.316746e+12\n",
       "65           Japan  3.757000e+12\n",
       "12           India  2.519603e+12\n",
       "105        Germany  2.156884e+12"
      ]
     },
     "execution_count": 84,
     "metadata": {},
     "output_type": "execute_result"
    }
   ],
   "source": [
    "top5gdp=gdp_of_diff_countries.sort_values(by=['gdp'],ascending=False).head()\n",
    "top5gdp.head()"
   ]
  },
  {
   "cell_type": "code",
   "execution_count": 85,
   "metadata": {},
   "outputs": [],
   "source": [
    "# Isolating Data for Each Country in the Top 5 in GDP \n",
    "usa=data[data.country=='United States']\n",
    "china=data[data.country=='China']\n",
    "japan=data[data.country=='Japan']\n",
    "india=data[data.country=='India']\n",
    "germany=data[data.country=='Germany']"
   ]
  },
  {
   "cell_type": "code",
   "execution_count": 86,
   "metadata": {},
   "outputs": [],
   "source": [
    "usa_gdp=usa.gdpPerCapita*usa.population\n",
    "china_gdp=china.gdpPerCapita*china.population\n",
    "japan_gdp=japan.gdpPerCapita*japan.population\n",
    "india_gdp=india.gdpPerCapita*india.population\n",
    "germany_gdp=germany.gdpPerCapita*germany.population"
   ]
  },
  {
   "cell_type": "markdown",
   "metadata": {},
   "source": [
    "### Plotting the Growth of GDP for each of the Top 5 Countries (United States, China, Japan, India, Germany) "
   ]
  },
  {
   "cell_type": "code",
   "execution_count": 87,
   "metadata": {},
   "outputs": [
    {
     "data": {
      "image/png": "[encoded data removed]",
      "text/plain": [
       "<Figure size 432x288 with 1 Axes>"
      ]
     },
     "metadata": {
      "needs_background": "light"
     },
     "output_type": "display_data"
    }
   ],
   "source": [
    "plt.title(\"Growth of GDP in Each Country\")\n",
    "plt.plot(usa.year,usa_gdp/usa_gdp.iloc[0]*100,color='red')\n",
    "plt.plot(china.year,china_gdp/china_gdp.iloc[0]*100,color='blue')\n",
    "plt.plot(china.year,japan_gdp/japan_gdp.iloc[0]*100,color='green')\n",
    "plt.plot(india.year,india_gdp/india_gdp.iloc[0]*100,color='orange')\n",
    "plt.plot(germany.year,germany_gdp/germany_gdp.iloc[0]*100,color='yellow')\n",
    "plt.legend(['United States','China','Japan','India','Germany'])\n",
    "plt.xlabel('Year')\n",
    "plt.ylabel('GDP')\n",
    "plt.show()"
   ]
  },
  {
   "cell_type": "code",
   "execution_count": 88,
   "metadata": {},
   "outputs": [],
   "source": [
    "# From the graph it can be seen that the Fastest Growing Country in terms of GDP is China\n",
    "# Followed by Japan, then India\n",
    "# Followed by United States and Germany"
   ]
  },
  {
   "cell_type": "markdown",
   "metadata": {},
   "source": [
    "## Analyzing GDP for China"
   ]
  },
  {
   "cell_type": "code",
   "execution_count": 89,
   "metadata": {},
   "outputs": [
    {
     "data": {
      "image/png": "[encoded data removed]",
      "text/plain": [
       "<Figure size 432x288 with 1 Axes>"
      ]
     },
     "metadata": {
      "needs_background": "light"
     },
     "output_type": "display_data"
    }
   ],
   "source": [
    "plt.plot(china.year,china_gdp/china_gdp.iloc[0]*100,color='red')\n",
    "plt.plot(china.year,china.population/china.population.iloc[0]*100,color='blue')\n",
    "plt.legend(['GDP Per Capita','Population'])\n",
    "plt.title('Growth in GDP and Population in China over 1952-2007')\n",
    "plt.xlabel('Year')\n",
    "plt.show()"
   ]
  },
  {
   "cell_type": "code",
   "execution_count": null,
   "metadata": {},
   "outputs": [],
   "source": []
  }
 ],
 "metadata": {
  "kernelspec": {
   "display_name": "Python 3",
   "language": "python",
   "name": "python3"
  },
  "language_info": {
   "codemirror_mode": {
    "name": "ipython",
    "version": 3
   },
   "file_extension": ".py",
   "mimetype": "text/x-python",
   "name": "python",
   "nbconvert_exporter": "python",
   "pygments_lexer": "ipython3",
   "version": "3.7.4"
  }
 },
 "nbformat": 4,
 "nbformat_minor": 4
}
